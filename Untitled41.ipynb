{
 "cells": [
  {
   "cell_type": "code",
   "execution_count": 1,
   "id": "fa19b4bf",
   "metadata": {},
   "outputs": [
    {
     "name": "stdout",
     "output_type": "stream",
     "text": [
      "3\n"
     ]
    }
   ],
   "source": [
    "import requests\n",
    "from bs4 import BeautifulSoup\n",
    "import pandas as pd\n",
    "import sqlite3\n",
    "def connect(values):\n",
    "        con=sqlite3.connect(\"eBay.db\")\n",
    "        \n",
    "        con.execute(\"CREATE TABLE IF NOT EXISTS EBAYWATCH(NAME TEXT,SUBTITLE TEXT,PRICE TEXT,LOCATION TEXT)\")\n",
    "        for val in values:\n",
    "            #print(val)\n",
    "            try:\n",
    "                inq=con.execute(\"INSERT INTO EBAYWATCH (NAME,SUBTITLE,PRICE,LOCATION) VALUES (?,?,?,?)\")\n",
    "                con.execute(inq,val)\n",
    "                \n",
    "            except:\n",
    "                pass   \n",
    "        cur=con.cursor()\n",
    "        cur.execute(\"SELECT * FROM EBAYWATCH\")\n",
    "        table=cur.fetchall()\n",
    "        for watch in table:\n",
    "            print(watch)\n",
    "        con.commit()      \n",
    "        con.close()      \n",
    "#import argparse\n",
    "#parser=argparse.ArgumentParser()\n",
    "#parser.add_argument(\"--n\",help=\"Enter the page number\",type=int)\n",
    "#args=parser.parse_args()\n",
    "#num=args.n\n",
    "num=int (input())\n",
    "scap=[]\n",
    "for i in range(1,num+1):\n",
    "    url=(\"https://www.ebay.com/sch/i.html?_from=R40&_nkw=watches&_sacat=0&_pgn=\"+str(num))\n",
    "    req=requests.get(url)\n",
    "    con=req.content\n",
    "    soup=BeautifulSoup(con,\"html.parser\")\n",
    "    alh=soup.find_all(\"div\",{\"class\":\"s-item__wrapper clearfix\"})\n",
    "    for i in alh:\n",
    "        watch_dict = {}\n",
    "        try:\n",
    "            watch_dict[\"watch_name\"]=i.find(\"h3\",{\"class\":\"s-item__title\"}).text\n",
    "        except:\n",
    "                AttributeError\n",
    "                pass\n",
    "        try:\n",
    "            watch_dict[\"Subtitle\"]=i.find(\"div\",{\"class\":\"s-item__subtitle\"}).text\n",
    "        except:\n",
    "                AttributeError\n",
    "                pass\n",
    "        try:\n",
    "            watch_dict[\"Price\"]=i.find(\"span\",{\"class\":\"s-item__price\"}).text\n",
    "        except:\n",
    "                AttributeError\n",
    "                pass\n",
    "        try:\n",
    "            watch_dict[\"Location\"]=i.find(\"span\",{\"class\":\"s-item__location s-item__itemLocation\"}).text\n",
    "        except:\n",
    "                AttributeError\n",
    "                pass\n",
    "        scap.append(watch_dict)  \n",
    "connect(tuple(scap))    \n",
    "dataframe=pd.DataFrame(scap)\n",
    "dataframe.to_csv(\"eBayProject.csv\")\n",
    "\n",
    "\n"
   ]
  }
 ],
 "metadata": {
  "kernelspec": {
   "display_name": "Python 3",
   "language": "python",
   "name": "python3"
  },
  "language_info": {
   "codemirror_mode": {
    "name": "ipython",
    "version": 3
   },
   "file_extension": ".py",
   "mimetype": "text/x-python",
   "name": "python",
   "nbconvert_exporter": "python",
   "pygments_lexer": "ipython3",
   "version": "3.9.5"
  }
 },
 "nbformat": 4,
 "nbformat_minor": 5
}
